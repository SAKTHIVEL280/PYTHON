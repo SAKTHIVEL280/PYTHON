{
  "nbformat": 4,
  "nbformat_minor": 0,
  "metadata": {
    "colab": {
      "provenance": [],
      "authorship_tag": "ABX9TyPj58PKPRUsV8BSwnIJrQV7",
      "include_colab_link": true
    },
    "kernelspec": {
      "name": "python3",
      "display_name": "Python 3"
    },
    "language_info": {
      "name": "python"
    }
  },
  "cells": [
    {
      "cell_type": "markdown",
      "metadata": {
        "id": "view-in-github",
        "colab_type": "text"
      },
      "source": [
        "<a href=\"https://colab.research.google.com/github/SAKTHIVEL280/PYTHON/blob/main/9_5_24(EX).ipynb\" target=\"_parent\"><img src=\"https://colab.research.google.com/assets/colab-badge.svg\" alt=\"Open In Colab\"/></a>"
      ]
    },
    {
      "cell_type": "code",
      "execution_count": null,
      "metadata": {
        "colab": {
          "base_uri": "https://localhost:8080/"
        },
        "id": "vN9gM4V3anL1",
        "outputId": "ba3255fb-7309-4eab-ce00-098e386cf746"
      },
      "outputs": [
        {
          "output_type": "stream",
          "name": "stdout",
          "text": [
            "Enter how many elements u r gonin to Enter : 10\n",
            "Enter the element 1 : 1\n",
            "Enter the element 2 : 2\n",
            "Enter the element 3 : 3\n",
            "Enter the element 4 : 4\n",
            "Enter the element 5 : 5\n",
            "Enter the element 6 : 6\n",
            "Enter the element 7 : 7\n",
            "Enter the element 8 : 8\n",
            "Enter the element 9 : 9\n",
            "Enter the element 10 : 10\n",
            "The list  [1, 2, 3, 4, 5, 6, 7, 8, 9, 10]\n",
            "The even list [2, 4, 6, 8, 10]\n",
            "The odd list [1, 3, 5, 7, 9]\n",
            "The square of even list [4, 16, 36, 64, 100]\n",
            "The square of odd list [1, 9, 25, 49, 81]\n"
          ]
        }
      ],
      "source": [
        "a=int(input(\"Enter how many elements u r gonin to Enter : \"))\n",
        "l=[]\n",
        "e=[]\n",
        "o=[]\n",
        "es=[]\n",
        "os=[]\n",
        "for i in range(a):\n",
        "  b=int(input(f\"Enter the element {i+1} : \"))\n",
        "  l.append(b)\n",
        "for i in l:\n",
        "  if(i%2==0):\n",
        "    e.append(i)\n",
        "    es.append(i*i)\n",
        "  else:\n",
        "    o.append(i)\n",
        "    os.append(i*i)\n",
        "print(\"The list \",l)\n",
        "print(\"The even list\",e)\n",
        "print(\"The odd list\",o)\n",
        "print(\"The square of even list\",es)\n",
        "print(\"The square of odd list\",os)"
      ]
    },
    {
      "cell_type": "code",
      "source": [
        "a=int(input(\"Enter how many elements u r gonin to Enter : \"))\n",
        "l=[]\n",
        "for i in range(a):\n",
        "  b=int(input(f\"Enter the element {i+1} : \"))\n",
        "  l.append(b)\n",
        "m=0\n",
        "s=l[0]\n",
        "for i in range(a):\n",
        "  if(m<l[i]):\n",
        "    m=l[i]\n",
        "  elif(s>l[i]):\n",
        "    s=l[i]\n",
        "print(\"The maximum number is \",m)\n",
        "print(\"The minimum number is \",s)"
      ],
      "metadata": {
        "colab": {
          "base_uri": "https://localhost:8080/"
        },
        "id": "RRnC-eG5cL_J",
        "outputId": "0f023f5f-def6-418a-ea09-448f90f61e0e"
      },
      "execution_count": null,
      "outputs": [
        {
          "output_type": "stream",
          "name": "stdout",
          "text": [
            "Enter how many elements u r gonin to Enter : 6\n",
            "Enter the element 1 : 23\n",
            "Enter the element 2 : 34\n",
            "Enter the element 3 : 14\n",
            "Enter the element 4 : 5\n",
            "Enter the element 5 : 43\n",
            "Enter the element 6 : 73\n",
            "The maximum number is  73\n",
            "The minimum number is  5\n"
          ]
        }
      ]
    },
    {
      "cell_type": "code",
      "source": [
        "a=int(input(\"Enter how many elements u r gonin to Enter : \"))\n",
        "l=[]\n",
        "for i in range(a):\n",
        "  b=int(input(f\"Enter the element {i+1} : \"))\n",
        "  l.append(b)\n",
        "m=0\n",
        "s=l[0]\n",
        "for i in range(a):\n",
        "  if(m<l[i]):\n",
        "    m=l[i]\n",
        "  elif(s>l[i]):\n",
        "    s=l[i]\n",
        "for i in range(a):\n",
        "  if(l[i]==m):\n",
        "    l[i]=-1000\n",
        "  elif(l[i]==s):\n",
        "    l[i]=-1000\n",
        "sl=0\n",
        "sm=10000000\n",
        "for i in range(a):\n",
        "  if(l[i]>0):\n",
        "    if(sl<l[i]):\n",
        "      sl=l[i]\n",
        "    elif(sm>l[i]):\n",
        "      sm=l[i]\n",
        "print(\"The second largest number is\",sl)\n",
        "print(\"The second smallest number is\",sm)"
      ],
      "metadata": {
        "id": "UUQ4LOMNeiVa",
        "colab": {
          "base_uri": "https://localhost:8080/"
        },
        "outputId": "d5bb4d1f-5c33-42f5-f568-4631bbfb458e"
      },
      "execution_count": 7,
      "outputs": [
        {
          "output_type": "stream",
          "name": "stdout",
          "text": [
            "Enter how many elements u r gonin to Enter : 6\n",
            "Enter the element 1 : 23\n",
            "Enter the element 2 : 34\n",
            "Enter the element 3 : 14\n",
            "Enter the element 4 : 5\n",
            "Enter the element 5 : 43\n",
            "Enter the element 6 : 73\n",
            "The second largest number is 43\n",
            "The second smallest number is 14\n"
          ]
        }
      ]
    },
    {
      "cell_type": "code",
      "source": [
        "a=int(input(\"Enter how many elements u r gonin to Enter : \"))\n",
        "l=[]\n",
        "for i in range(a):\n",
        "  b=int(input(f\"Enter the element {i+1} : \"))\n",
        "  l.append(b)\n",
        "for i in range(a):\n",
        "  for j in range(a):\n",
        "    if(l[i]<l[j]):\n",
        "      temp=l[i]\n",
        "      l[i]=l[j]\n",
        "      l[j]=temp\n",
        "print(\"The ascending order is \",l)\n",
        "for i in range(a):\n",
        "  for j in range(a):\n",
        "    if(l[i]>l[j]):\n",
        "      temp=l[i]\n",
        "      l[i]=l[j]\n",
        "      l[j]=temp\n",
        "print(\"The descending order is\",l)"
      ],
      "metadata": {
        "colab": {
          "base_uri": "https://localhost:8080/"
        },
        "id": "fL4RWFoahld2",
        "outputId": "d06137c9-0a72-4717-c2fb-726d818d25c1"
      },
      "execution_count": 9,
      "outputs": [
        {
          "output_type": "stream",
          "name": "stdout",
          "text": [
            "Enter how many elements u r gonin to Enter : 6\n",
            "Enter the element 1 : 23\n",
            "Enter the element 2 : 34\n",
            "Enter the element 3 : 14\n",
            "Enter the element 4 : 5\n",
            "Enter the element 5 : 43\n",
            "Enter the element 6 : 73\n",
            "The ascending order is  [5, 14, 23, 34, 43, 73]\n",
            "The descending order is [73, 43, 34, 23, 14, 5]\n"
          ]
        }
      ]
    },
    {
      "cell_type": "code",
      "source": [
        "a=int(input(\"Enter how many elements u r gonin to Enter : \"))\n",
        "l=[]\n",
        "f=0\n",
        "for i in range(a):\n",
        "  b=int(input(f\"Enter the element {i+1} : \"))\n",
        "  l.append(b)\n",
        "print(l)\n",
        "k=int(input(\"for which number u need to find the index : \"))\n",
        "for i in range(a):\n",
        "  if(k==l[i]):\n",
        "    print(\"The index of the value\",k,\"is\",i)\n",
        "    f=1\n",
        "    break\n",
        "  else:\n",
        "    f=0\n",
        "if(f==0):\n",
        "  print(\"value not found :(\")"
      ],
      "metadata": {
        "colab": {
          "base_uri": "https://localhost:8080/"
        },
        "id": "az8AkLADi2xm",
        "outputId": "0f6ed65c-3ef5-4a57-8dc1-297a55dfd834"
      },
      "execution_count": 12,
      "outputs": [
        {
          "output_type": "stream",
          "name": "stdout",
          "text": [
            "Enter how many elements u r gonin to Enter : 6\n",
            "Enter the element 1 : 23\n",
            "Enter the element 2 : 34\n",
            "Enter the element 3 : 14\n",
            "Enter the element 4 : 5\n",
            "Enter the element 5 : 43\n",
            "Enter the element 6 : 73\n",
            "[23, 34, 14, 5, 43, 73]\n",
            "for which number u need to find the index : 5\n",
            "The index of the value 5 is 3\n"
          ]
        }
      ]
    },
    {
      "cell_type": "code",
      "source": [
        "a=int(input(\"Enter how many elements u r gonin to Enter : \"))\n",
        "l=[]\n",
        "f=0\n",
        "for i in range(a):\n",
        "  b=int(input(f\"Enter the element {i+1} : \"))\n",
        "  l.append(b)\n",
        "v=int(input(\"For which value u need to find the frequency : \"))\n",
        "for i in range(a):\n",
        "  if(l[i]==v):\n",
        "    f+=1\n",
        "print(\"The frequency is of\",v,\"is\",f)"
      ],
      "metadata": {
        "colab": {
          "base_uri": "https://localhost:8080/"
        },
        "id": "ZMVEy_bCktz4",
        "outputId": "2f0d0bd0-8dec-431d-f45c-174aedaf56de"
      },
      "execution_count": 13,
      "outputs": [
        {
          "output_type": "stream",
          "name": "stdout",
          "text": [
            "Enter how many elements u r gonin to Enter : 6\n",
            "Enter the element 1 : 1\n",
            "Enter the element 2 : 2\n",
            "Enter the element 3 : 1\n",
            "Enter the element 4 : 3\n",
            "Enter the element 5 : 1\n",
            "Enter the element 6 : 2\n",
            "For which value u need to find the frequency : 1\n",
            "The frequency is of 1 is 3\n"
          ]
        }
      ]
    },
    {
      "cell_type": "code",
      "source": [
        "d={}\n",
        "l1=[]\n",
        "l2=[]\n",
        "for i in range(3):\n",
        "  a=input(\"Enter the key : \")\n",
        "  l1.append(a)\n",
        "for i in range(3):\n",
        "  b=int(input(\"Enter the value : \"))\n",
        "  l2.append(b)\n",
        "for i in range(3):\n",
        "  d[l1[i]]=l2[i]\n",
        "print(d)"
      ],
      "metadata": {
        "colab": {
          "base_uri": "https://localhost:8080/"
        },
        "id": "NIIyEcjYl9iO",
        "outputId": "8038f603-607c-4529-9c04-a0b62a0fe291"
      },
      "execution_count": 14,
      "outputs": [
        {
          "output_type": "stream",
          "name": "stdout",
          "text": [
            "Enter the key : ten\n",
            "Enter the key : twenty\n",
            "Enter the key : thirty\n",
            "Enter the value : 10\n",
            "Enter the value : 20\n",
            "Enter the value : 30\n",
            "{'ten': 10, 'twenty': 20, 'thirty': 30}\n"
          ]
        }
      ]
    },
    {
      "cell_type": "code",
      "source": [
        "a=[\"A\",\"B\",\"C\",\"n\"]\n",
        "c=[0,0,0,0]\n",
        "v=['a','b','c','d','e','f','g','h','i','j']\n",
        "aa=[]\n",
        "bb=[]\n",
        "cc=[]\n",
        "n=[]\n",
        "bruh=[aa,bb,cc,n]\n",
        "print(\"To vote A press 1\\nTo vote B press 2\\nTo vote C press 3\\nTo vote none press 4\")\n",
        "for i in v:\n",
        "  w=int(input(f\"Please make ur vote {i} :\"))\n",
        "  if(w==1):\n",
        "    aa.append(i)\n",
        "    c[0]+=1\n",
        "  elif(w==2):\n",
        "    bb.append(i)\n",
        "    c[1]+=1\n",
        "  elif(w==3):\n",
        "    cc.append(i)\n",
        "  elif(w==4):\n",
        "    n.append(i)\n",
        "  else:\n",
        "    print(\"Make sure u Enter crt option next time :)\")\n",
        "m=0\n",
        "for i in range(4):\n",
        "  if(m<c[i]):\n",
        "    m=c[i]\n",
        "for i in range(4):\n",
        "  if(m==c[i]):\n",
        "    print(\"The winner is\",a[i],\"with\",c[i],\"votes\")\n",
        "    print(bruh[i])\n",
        "    c[i]=0\n",
        "    break\n",
        "sm=0\n",
        "for i in range(4):\n",
        "  if(sm<c[i]):\n",
        "    sm=c[i]\n",
        "for i in range(4):\n",
        "  if(sm==c[i]):\n",
        "    print(\"The Runner is\",a[i],\"with\",c[i],\"votes\")\n",
        "    print(bruh[i])"
      ],
      "metadata": {
        "colab": {
          "base_uri": "https://localhost:8080/"
        },
        "id": "-XDf2V1anDfz",
        "outputId": "818b6ea7-43d5-4213-efd6-e1d6d596ab30"
      },
      "execution_count": 17,
      "outputs": [
        {
          "output_type": "stream",
          "name": "stdout",
          "text": [
            "To vote A press 1\n",
            "To vote B press 2\n",
            "To vote C press 3\n",
            "To vote none press 4\n",
            "Please make ur vote a :1\n",
            "Please make ur vote b :2\n",
            "Please make ur vote c :1\n",
            "Please make ur vote d :3\n",
            "Please make ur vote e :1\n",
            "Please make ur vote f :1\n",
            "Please make ur vote g :2\n",
            "Please make ur vote h :1\n",
            "Please make ur vote i :2\n",
            "Please make ur vote j :1\n",
            "The winner is A with 6 votes\n",
            "['a', 'c', 'e', 'f', 'h', 'j']\n",
            "The Runner is B with 3 votes\n",
            "['b', 'g', 'i']\n"
          ]
        }
      ]
    },
    {
      "cell_type": "code",
      "source": [
        "def menu():\n",
        "  print(\"1.To convert dollars to rupees\\n2. To convert celcius to fahrenheit\\n3. To check your BMI\\n4. To calculate Simple interest\\nTo exit press 5\")\n",
        "  a=int(input(\"Enter your option :\"))\n",
        "  if(a==1):\n",
        "    id()\n",
        "  elif(a==2):\n",
        "    cf()\n",
        "  elif(a==3):\n",
        "    bmi()\n",
        "  elif(a==4):\n",
        "    si()\n",
        "  elif(a==5):\n",
        "    print(\"Exited\")\n",
        "  else:\n",
        "    print(\"Enter a Valid option :)\")\n",
        "    menu()\n",
        "def id():\n",
        "  a=int(input(\"Enter money value in dollars :\"))\n",
        "  print(\"In Indian rupees its\",a*83.51)\n",
        "  menu()\n",
        "def cf():\n",
        "  a=int(input(\"Enter the celcius : \"))\n",
        "  f=(a*(9/5)) + 32\n",
        "  print(\"Fahrenheit is\",f)\n",
        "  menu()\n",
        "def bmi():\n",
        "  a=float(input(\"Enter ur weight\"))\n",
        "  b=float(input(\"Enter ur height\"))\n",
        "  bmi=a/(b*b)\n",
        "  if(bmi<=18.4):\n",
        "    print(\"underweight\")\n",
        "  elif(bmi<=24.9):\n",
        "    print(\"normal\")\n",
        "  elif(bmi<=39.9):\n",
        "    print(\"overweight\")\n",
        "  elif(bmi<=40):\n",
        "    print(\"obese\")\n",
        "  menu()\n",
        "def si():\n",
        "  p=int(input(\"Enter the p  : \"))\n",
        "  r=int(input(\"Enter the r  : \"))\n",
        "  t=int(input(\"Enter the t  : \"))\n",
        "  prt=(p*r*t)/100\n",
        "  print(\"The simple interest is\",prt)\n",
        "  menu()\n",
        "menu()"
      ],
      "metadata": {
        "colab": {
          "base_uri": "https://localhost:8080/"
        },
        "id": "BT-unxCksBqa",
        "outputId": "7aa4c66a-7583-4b8a-bba0-b168775b7779"
      },
      "execution_count": 22,
      "outputs": [
        {
          "output_type": "stream",
          "name": "stdout",
          "text": [
            "1.To convert dollars to rupees\n",
            "2. To convert celcius to fahrenheit\n",
            "3. To check your BMI\n",
            "4. To calculate Simple interest\n",
            "To exit press 5\n",
            "Enter your option :1\n",
            "Enter money value in dollars :10\n",
            "In Indian rupees its 835.1\n",
            "1.To convert dollars to rupees\n",
            "2. To convert celcius to fahrenheit\n",
            "3. To check your BMI\n",
            "4. To calculate Simple interest\n",
            "To exit press 5\n",
            "Enter your option :5\n",
            "Exited\n"
          ]
        }
      ]
    },
    {
      "cell_type": "code",
      "source": [
        "a=int(input(\"Enter how many elements u r gonin to Enter : \"))\n",
        "l=[]\n",
        "for i in range(a):\n",
        "  b=int(input(f\"Enter the element {i+1} : \"))\n",
        "  l.append(b)\n",
        "for i in range(a):\n",
        "  for j in range(a):\n",
        "    if(l[i]<l[j]):\n",
        "      temp=l[i]\n",
        "      l[i]=l[j]\n",
        "      l[j]=temp\n",
        "print(l)\n"
      ],
      "metadata": {
        "colab": {
          "base_uri": "https://localhost:8080/"
        },
        "id": "ltRX15uK45Bq",
        "outputId": "003c3bb0-e003-46d8-a76a-6c883526b5d6"
      },
      "execution_count": 26,
      "outputs": [
        {
          "output_type": "stream",
          "name": "stdout",
          "text": [
            "Enter how many elements u r gonin to Enter : 6\n",
            "Enter the element 1 : 1\n",
            "Enter the element 2 : 0\n",
            "Enter the element 3 : 1\n",
            "Enter the element 4 : 1\n",
            "Enter the element 5 : 0\n",
            "Enter the element 6 : 1\n",
            "[0, 0, 1, 1, 1, 1]\n"
          ]
        }
      ]
    }
  ]
}